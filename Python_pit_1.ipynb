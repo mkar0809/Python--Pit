{
  "nbformat": 4,
  "nbformat_minor": 0,
  "metadata": {
    "colab": {
      "provenance": [],
      "authorship_tag": "ABX9TyO4psNcBuEYz14SVOOFZVE8",
      "include_colab_link": true
    },
    "kernelspec": {
      "name": "python3",
      "display_name": "Python 3"
    },
    "language_info": {
      "name": "python"
    }
  },
  "cells": [
    {
      "cell_type": "markdown",
      "metadata": {
        "id": "view-in-github",
        "colab_type": "text"
      },
      "source": [
        "<a href=\"https://colab.research.google.com/github/mkar0809/Python--Pit/blob/main/Python_pit_1.ipynb\" target=\"_parent\"><img src=\"https://colab.research.google.com/assets/colab-badge.svg\" alt=\"Open In Colab\"/></a>"
      ]
    },
    {
      "cell_type": "code",
      "execution_count": null,
      "metadata": {
        "id": "8MrB9vLof3PK"
      },
      "outputs": [],
      "source": [
        "import numpy as np\n",
        "import pandas as pd"
      ]
    },
    {
      "cell_type": "code",
      "source": [
        "!wget -O Tutorial.csv -q  https://raw.githubusercontent.com/Praxis-QR/FDS/main/data/pandas_tutorial_read.csv #fetching the dataset"
      ],
      "metadata": {
        "id": "-CJAHq7Uf7jT"
      },
      "execution_count": null,
      "outputs": []
    },
    {
      "cell_type": "code",
      "source": [
        "file_path = 'Tutorial.csv'\n",
        "custom_delimiter = ';'  # Specify the delimiter used in the CSV file\n",
        "\n",
        "# Read the CSV file into a DataFrame\n",
        "df_ArticleRead = pd.read_csv(file_path, sep=custom_delimiter, header=None)\n",
        "\n",
        "# Display the first few rows of the DataFrame\n",
        "print(df_ArticleRead.head())"
      ],
      "metadata": {
        "colab": {
          "base_uri": "https://localhost:8080/"
        },
        "id": "MiPXhmt5gP-q",
        "outputId": "d66cfa6b-a4e0-4a78-f41d-01e497f74ba5"
      },
      "execution_count": null,
      "outputs": [
        {
          "output_type": "stream",
          "name": "stdout",
          "text": [
            "                     0     1          2           3        4              5\n",
            "0  2018-01-01 00:01:01  read  country_7  2458151261      SEO  North America\n",
            "1  2018-01-01 00:03:20  read  country_7  2458151262      SEO  South America\n",
            "2  2018-01-01 00:04:01  read  country_7  2458151263  AdWords         Africa\n",
            "3  2018-01-01 00:04:02  read  country_7  2458151264  AdWords         Europe\n",
            "4  2018-01-01 00:05:03  read  country_8  2458151265   Reddit  North America\n"
          ]
        }
      ]
    },
    {
      "cell_type": "code",
      "source": [
        "file_path = 'Tutorial.csv'\n",
        "custom_delimiter = ';'  # Specify the delimiter used in the CSV file\n",
        "col_names = ['My_Datetime', 'Event', 'Country', 'User_ID', 'Source', 'Topic']  # Desired column names\n",
        "\n",
        "# Read the CSV file into a DataFrame and assign desired column names\n",
        "df_ArticleRead = pd.read_csv(file_path, delimiter=custom_delimiter, header=None, names=col_names)\n",
        "\n",
        "# Display the DataFrame with renamed columns\n",
        "print(df_ArticleRead.head())"
      ],
      "metadata": {
        "colab": {
          "base_uri": "https://localhost:8080/"
        },
        "id": "ENVMYMM0g7fO",
        "outputId": "5d4dd259-2626-4e4e-f54e-9f726f584fef"
      },
      "execution_count": null,
      "outputs": [
        {
          "output_type": "stream",
          "name": "stdout",
          "text": [
            "           My_Datetime Event    Country     User_ID   Source          Topic\n",
            "0  2018-01-01 00:01:01  read  country_7  2458151261      SEO  North America\n",
            "1  2018-01-01 00:03:20  read  country_7  2458151262      SEO  South America\n",
            "2  2018-01-01 00:04:01  read  country_7  2458151263  AdWords         Africa\n",
            "3  2018-01-01 00:04:02  read  country_7  2458151264  AdWords         Europe\n",
            "4  2018-01-01 00:05:03  read  country_8  2458151265   Reddit  North America\n"
          ]
        }
      ]
    },
    {
      "cell_type": "code",
      "source": [
        "df_ArticleRead.info() #checking the datatypes"
      ],
      "metadata": {
        "colab": {
          "base_uri": "https://localhost:8080/"
        },
        "id": "VjF8iGQvhExJ",
        "outputId": "57202ade-df0e-42a2-a4db-37f2dca76a06"
      },
      "execution_count": null,
      "outputs": [
        {
          "output_type": "stream",
          "name": "stdout",
          "text": [
            "<class 'pandas.core.frame.DataFrame'>\n",
            "RangeIndex: 1795 entries, 0 to 1794\n",
            "Data columns (total 6 columns):\n",
            " #   Column       Non-Null Count  Dtype \n",
            "---  ------       --------------  ----- \n",
            " 0   My_Datetime  1795 non-null   object\n",
            " 1   Event        1795 non-null   object\n",
            " 2   Country      1795 non-null   object\n",
            " 3   User_ID      1795 non-null   int64 \n",
            " 4   Source       1795 non-null   object\n",
            " 5   Topic        1795 non-null   object\n",
            "dtypes: int64(1), object(5)\n",
            "memory usage: 84.3+ KB\n"
          ]
        }
      ]
    },
    {
      "cell_type": "code",
      "source": [
        "df_ArticleRead.head()"
      ],
      "metadata": {
        "colab": {
          "base_uri": "https://localhost:8080/",
          "height": 206
        },
        "id": "o4NW_IRjhLpN",
        "outputId": "5e824a57-e141-478d-d45b-24ae07f462ae"
      },
      "execution_count": null,
      "outputs": [
        {
          "output_type": "execute_result",
          "data": {
            "text/plain": [
              "           My_Datetime Event    Country     User_ID   Source          Topic\n",
              "0  2018-01-01 00:01:01  read  country_7  2458151261      SEO  North America\n",
              "1  2018-01-01 00:03:20  read  country_7  2458151262      SEO  South America\n",
              "2  2018-01-01 00:04:01  read  country_7  2458151263  AdWords         Africa\n",
              "3  2018-01-01 00:04:02  read  country_7  2458151264  AdWords         Europe\n",
              "4  2018-01-01 00:05:03  read  country_8  2458151265   Reddit  North America"
            ],
            "text/html": [
              "\n",
              "  <div id=\"df-55107bf7-fb4f-4379-858f-ef955c78344b\" class=\"colab-df-container\">\n",
              "    <div>\n",
              "<style scoped>\n",
              "    .dataframe tbody tr th:only-of-type {\n",
              "        vertical-align: middle;\n",
              "    }\n",
              "\n",
              "    .dataframe tbody tr th {\n",
              "        vertical-align: top;\n",
              "    }\n",
              "\n",
              "    .dataframe thead th {\n",
              "        text-align: right;\n",
              "    }\n",
              "</style>\n",
              "<table border=\"1\" class=\"dataframe\">\n",
              "  <thead>\n",
              "    <tr style=\"text-align: right;\">\n",
              "      <th></th>\n",
              "      <th>My_Datetime</th>\n",
              "      <th>Event</th>\n",
              "      <th>Country</th>\n",
              "      <th>User_ID</th>\n",
              "      <th>Source</th>\n",
              "      <th>Topic</th>\n",
              "    </tr>\n",
              "  </thead>\n",
              "  <tbody>\n",
              "    <tr>\n",
              "      <th>0</th>\n",
              "      <td>2018-01-01 00:01:01</td>\n",
              "      <td>read</td>\n",
              "      <td>country_7</td>\n",
              "      <td>2458151261</td>\n",
              "      <td>SEO</td>\n",
              "      <td>North America</td>\n",
              "    </tr>\n",
              "    <tr>\n",
              "      <th>1</th>\n",
              "      <td>2018-01-01 00:03:20</td>\n",
              "      <td>read</td>\n",
              "      <td>country_7</td>\n",
              "      <td>2458151262</td>\n",
              "      <td>SEO</td>\n",
              "      <td>South America</td>\n",
              "    </tr>\n",
              "    <tr>\n",
              "      <th>2</th>\n",
              "      <td>2018-01-01 00:04:01</td>\n",
              "      <td>read</td>\n",
              "      <td>country_7</td>\n",
              "      <td>2458151263</td>\n",
              "      <td>AdWords</td>\n",
              "      <td>Africa</td>\n",
              "    </tr>\n",
              "    <tr>\n",
              "      <th>3</th>\n",
              "      <td>2018-01-01 00:04:02</td>\n",
              "      <td>read</td>\n",
              "      <td>country_7</td>\n",
              "      <td>2458151264</td>\n",
              "      <td>AdWords</td>\n",
              "      <td>Europe</td>\n",
              "    </tr>\n",
              "    <tr>\n",
              "      <th>4</th>\n",
              "      <td>2018-01-01 00:05:03</td>\n",
              "      <td>read</td>\n",
              "      <td>country_8</td>\n",
              "      <td>2458151265</td>\n",
              "      <td>Reddit</td>\n",
              "      <td>North America</td>\n",
              "    </tr>\n",
              "  </tbody>\n",
              "</table>\n",
              "</div>\n",
              "    <div class=\"colab-df-buttons\">\n",
              "\n",
              "  <div class=\"colab-df-container\">\n",
              "    <button class=\"colab-df-convert\" onclick=\"convertToInteractive('df-55107bf7-fb4f-4379-858f-ef955c78344b')\"\n",
              "            title=\"Convert this dataframe to an interactive table.\"\n",
              "            style=\"display:none;\">\n",
              "\n",
              "  <svg xmlns=\"http://www.w3.org/2000/svg\" height=\"24px\" viewBox=\"0 -960 960 960\">\n",
              "    <path d=\"M120-120v-720h720v720H120Zm60-500h600v-160H180v160Zm220 220h160v-160H400v160Zm0 220h160v-160H400v160ZM180-400h160v-160H180v160Zm440 0h160v-160H620v160ZM180-180h160v-160H180v160Zm440 0h160v-160H620v160Z\"/>\n",
              "  </svg>\n",
              "    </button>\n",
              "\n",
              "  <style>\n",
              "    .colab-df-container {\n",
              "      display:flex;\n",
              "      gap: 12px;\n",
              "    }\n",
              "\n",
              "    .colab-df-convert {\n",
              "      background-color: #E8F0FE;\n",
              "      border: none;\n",
              "      border-radius: 50%;\n",
              "      cursor: pointer;\n",
              "      display: none;\n",
              "      fill: #1967D2;\n",
              "      height: 32px;\n",
              "      padding: 0 0 0 0;\n",
              "      width: 32px;\n",
              "    }\n",
              "\n",
              "    .colab-df-convert:hover {\n",
              "      background-color: #E2EBFA;\n",
              "      box-shadow: 0px 1px 2px rgba(60, 64, 67, 0.3), 0px 1px 3px 1px rgba(60, 64, 67, 0.15);\n",
              "      fill: #174EA6;\n",
              "    }\n",
              "\n",
              "    .colab-df-buttons div {\n",
              "      margin-bottom: 4px;\n",
              "    }\n",
              "\n",
              "    [theme=dark] .colab-df-convert {\n",
              "      background-color: #3B4455;\n",
              "      fill: #D2E3FC;\n",
              "    }\n",
              "\n",
              "    [theme=dark] .colab-df-convert:hover {\n",
              "      background-color: #434B5C;\n",
              "      box-shadow: 0px 1px 3px 1px rgba(0, 0, 0, 0.15);\n",
              "      filter: drop-shadow(0px 1px 2px rgba(0, 0, 0, 0.3));\n",
              "      fill: #FFFFFF;\n",
              "    }\n",
              "  </style>\n",
              "\n",
              "    <script>\n",
              "      const buttonEl =\n",
              "        document.querySelector('#df-55107bf7-fb4f-4379-858f-ef955c78344b button.colab-df-convert');\n",
              "      buttonEl.style.display =\n",
              "        google.colab.kernel.accessAllowed ? 'block' : 'none';\n",
              "\n",
              "      async function convertToInteractive(key) {\n",
              "        const element = document.querySelector('#df-55107bf7-fb4f-4379-858f-ef955c78344b');\n",
              "        const dataTable =\n",
              "          await google.colab.kernel.invokeFunction('convertToInteractive',\n",
              "                                                    [key], {});\n",
              "        if (!dataTable) return;\n",
              "\n",
              "        const docLinkHtml = 'Like what you see? Visit the ' +\n",
              "          '<a target=\"_blank\" href=https://colab.research.google.com/notebooks/data_table.ipynb>data table notebook</a>'\n",
              "          + ' to learn more about interactive tables.';\n",
              "        element.innerHTML = '';\n",
              "        dataTable['output_type'] = 'display_data';\n",
              "        await google.colab.output.renderOutput(dataTable, element);\n",
              "        const docLink = document.createElement('div');\n",
              "        docLink.innerHTML = docLinkHtml;\n",
              "        element.appendChild(docLink);\n",
              "      }\n",
              "    </script>\n",
              "  </div>\n",
              "\n",
              "\n",
              "<div id=\"df-d5edd588-185f-4b03-9c46-4e2c2e3b0753\">\n",
              "  <button class=\"colab-df-quickchart\" onclick=\"quickchart('df-d5edd588-185f-4b03-9c46-4e2c2e3b0753')\"\n",
              "            title=\"Suggest charts\"\n",
              "            style=\"display:none;\">\n",
              "\n",
              "<svg xmlns=\"http://www.w3.org/2000/svg\" height=\"24px\"viewBox=\"0 0 24 24\"\n",
              "     width=\"24px\">\n",
              "    <g>\n",
              "        <path d=\"M19 3H5c-1.1 0-2 .9-2 2v14c0 1.1.9 2 2 2h14c1.1 0 2-.9 2-2V5c0-1.1-.9-2-2-2zM9 17H7v-7h2v7zm4 0h-2V7h2v10zm4 0h-2v-4h2v4z\"/>\n",
              "    </g>\n",
              "</svg>\n",
              "  </button>\n",
              "\n",
              "<style>\n",
              "  .colab-df-quickchart {\n",
              "      --bg-color: #E8F0FE;\n",
              "      --fill-color: #1967D2;\n",
              "      --hover-bg-color: #E2EBFA;\n",
              "      --hover-fill-color: #174EA6;\n",
              "      --disabled-fill-color: #AAA;\n",
              "      --disabled-bg-color: #DDD;\n",
              "  }\n",
              "\n",
              "  [theme=dark] .colab-df-quickchart {\n",
              "      --bg-color: #3B4455;\n",
              "      --fill-color: #D2E3FC;\n",
              "      --hover-bg-color: #434B5C;\n",
              "      --hover-fill-color: #FFFFFF;\n",
              "      --disabled-bg-color: #3B4455;\n",
              "      --disabled-fill-color: #666;\n",
              "  }\n",
              "\n",
              "  .colab-df-quickchart {\n",
              "    background-color: var(--bg-color);\n",
              "    border: none;\n",
              "    border-radius: 50%;\n",
              "    cursor: pointer;\n",
              "    display: none;\n",
              "    fill: var(--fill-color);\n",
              "    height: 32px;\n",
              "    padding: 0;\n",
              "    width: 32px;\n",
              "  }\n",
              "\n",
              "  .colab-df-quickchart:hover {\n",
              "    background-color: var(--hover-bg-color);\n",
              "    box-shadow: 0 1px 2px rgba(60, 64, 67, 0.3), 0 1px 3px 1px rgba(60, 64, 67, 0.15);\n",
              "    fill: var(--button-hover-fill-color);\n",
              "  }\n",
              "\n",
              "  .colab-df-quickchart-complete:disabled,\n",
              "  .colab-df-quickchart-complete:disabled:hover {\n",
              "    background-color: var(--disabled-bg-color);\n",
              "    fill: var(--disabled-fill-color);\n",
              "    box-shadow: none;\n",
              "  }\n",
              "\n",
              "  .colab-df-spinner {\n",
              "    border: 2px solid var(--fill-color);\n",
              "    border-color: transparent;\n",
              "    border-bottom-color: var(--fill-color);\n",
              "    animation:\n",
              "      spin 1s steps(1) infinite;\n",
              "  }\n",
              "\n",
              "  @keyframes spin {\n",
              "    0% {\n",
              "      border-color: transparent;\n",
              "      border-bottom-color: var(--fill-color);\n",
              "      border-left-color: var(--fill-color);\n",
              "    }\n",
              "    20% {\n",
              "      border-color: transparent;\n",
              "      border-left-color: var(--fill-color);\n",
              "      border-top-color: var(--fill-color);\n",
              "    }\n",
              "    30% {\n",
              "      border-color: transparent;\n",
              "      border-left-color: var(--fill-color);\n",
              "      border-top-color: var(--fill-color);\n",
              "      border-right-color: var(--fill-color);\n",
              "    }\n",
              "    40% {\n",
              "      border-color: transparent;\n",
              "      border-right-color: var(--fill-color);\n",
              "      border-top-color: var(--fill-color);\n",
              "    }\n",
              "    60% {\n",
              "      border-color: transparent;\n",
              "      border-right-color: var(--fill-color);\n",
              "    }\n",
              "    80% {\n",
              "      border-color: transparent;\n",
              "      border-right-color: var(--fill-color);\n",
              "      border-bottom-color: var(--fill-color);\n",
              "    }\n",
              "    90% {\n",
              "      border-color: transparent;\n",
              "      border-bottom-color: var(--fill-color);\n",
              "    }\n",
              "  }\n",
              "</style>\n",
              "\n",
              "  <script>\n",
              "    async function quickchart(key) {\n",
              "      const quickchartButtonEl =\n",
              "        document.querySelector('#' + key + ' button');\n",
              "      quickchartButtonEl.disabled = true;  // To prevent multiple clicks.\n",
              "      quickchartButtonEl.classList.add('colab-df-spinner');\n",
              "      try {\n",
              "        const charts = await google.colab.kernel.invokeFunction(\n",
              "            'suggestCharts', [key], {});\n",
              "      } catch (error) {\n",
              "        console.error('Error during call to suggestCharts:', error);\n",
              "      }\n",
              "      quickchartButtonEl.classList.remove('colab-df-spinner');\n",
              "      quickchartButtonEl.classList.add('colab-df-quickchart-complete');\n",
              "    }\n",
              "    (() => {\n",
              "      let quickchartButtonEl =\n",
              "        document.querySelector('#df-d5edd588-185f-4b03-9c46-4e2c2e3b0753 button');\n",
              "      quickchartButtonEl.style.display =\n",
              "        google.colab.kernel.accessAllowed ? 'block' : 'none';\n",
              "    })();\n",
              "  </script>\n",
              "</div>\n",
              "    </div>\n",
              "  </div>\n"
            ]
          },
          "metadata": {},
          "execution_count": 6
        }
      ]
    },
    {
      "cell_type": "code",
      "source": [
        "# Filter the DataFrame where 'Source' column equals 'SEO'\n",
        "filtered_df = df_ArticleRead[df_ArticleRead['Source'] == 'SEO']\n",
        "\n",
        "# Display the filtered DataFrame\n",
        "print(filtered_df)"
      ],
      "metadata": {
        "colab": {
          "base_uri": "https://localhost:8080/"
        },
        "id": "NjoebiZChRPN",
        "outputId": "b746ba58-9722-4533-b64f-fc007f977450"
      },
      "execution_count": null,
      "outputs": [
        {
          "output_type": "stream",
          "name": "stdout",
          "text": [
            "              My_Datetime Event    Country     User_ID Source          Topic\n",
            "0     2018-01-01 00:01:01  read  country_7  2458151261    SEO  North America\n",
            "1     2018-01-01 00:03:20  read  country_7  2458151262    SEO  South America\n",
            "11    2018-01-01 00:08:57  read  country_7  2458151272    SEO      Australia\n",
            "15    2018-01-01 00:11:22  read  country_7  2458151276    SEO  North America\n",
            "16    2018-01-01 00:13:05  read  country_8  2458151277    SEO  North America\n",
            "...                   ...   ...        ...         ...    ...            ...\n",
            "1772  2018-01-01 23:45:58  read  country_7  2458153033    SEO  South America\n",
            "1777  2018-01-01 23:49:52  read  country_5  2458153038    SEO  North America\n",
            "1779  2018-01-01 23:51:25  read  country_4  2458153040    SEO  South America\n",
            "1784  2018-01-01 23:54:03  read  country_2  2458153045    SEO  North America\n",
            "1791  2018-01-01 23:58:33  read  country_8  2458153052    SEO           Asia\n",
            "\n",
            "[346 rows x 6 columns]\n"
          ]
        }
      ]
    },
    {
      "cell_type": "code",
      "source": [
        "# Filter the DataFrame where 'Country' column equals 'country_2' and assign it to df_ArticleReadCountry2\n",
        "df_ArticleReadCountry2 = df_ArticleRead[df_ArticleRead['Country'] == 'country_2']\n",
        "\n",
        "# Display the new DataFrame\n",
        "print(df_ArticleReadCountry2)"
      ],
      "metadata": {
        "colab": {
          "base_uri": "https://localhost:8080/"
        },
        "id": "eOwuJDHihkOt",
        "outputId": "7f568cff-1a3d-4292-cf5e-b06afe8797a3"
      },
      "execution_count": null,
      "outputs": [
        {
          "output_type": "stream",
          "name": "stdout",
          "text": [
            "              My_Datetime Event    Country     User_ID   Source          Topic\n",
            "6     2018-01-01 00:06:06  read  country_2  2458151267   Reddit         Europe\n",
            "13    2018-01-01 00:09:29  read  country_2  2458151274   Reddit         Europe\n",
            "17    2018-01-01 00:13:06  read  country_2  2458151278   Reddit           Asia\n",
            "19    2018-01-01 00:14:53  read  country_2  2458151280   Reddit           Asia\n",
            "20    2018-01-01 00:15:44  read  country_2  2458151281   Reddit           Asia\n",
            "...                   ...   ...        ...         ...      ...            ...\n",
            "1782  2018-01-01 23:53:03  read  country_2  2458153043  AdWords           Asia\n",
            "1784  2018-01-01 23:54:03  read  country_2  2458153045      SEO  North America\n",
            "1785  2018-01-01 23:54:26  read  country_2  2458153046  AdWords         Africa\n",
            "1787  2018-01-01 23:54:45  read  country_2  2458153048   Reddit           Asia\n",
            "1790  2018-01-01 23:57:14  read  country_2  2458153051  AdWords  North America\n",
            "\n",
            "[462 rows x 6 columns]\n"
          ]
        }
      ]
    },
    {
      "cell_type": "code",
      "source": [
        "# Splitting 'My_Datetime' column and creating 'Date' and 'Time' columns\n",
        "split_datetime = df_ArticleReadCountry2['My_Datetime'].str.split(' ', 1, expand=True)\n",
        "df_ArticleReadCountry2['Date'] = split_datetime[0]\n",
        "df_ArticleReadCountry2['Time'] = split_datetime[1]\n",
        "\n",
        "# Dropping the 'My_Datetime' column\n",
        "df_ArticleReadCountry2.drop('My_Datetime', axis=1, inplace=True)\n",
        "\n",
        "# Displaying the modified DataFrame\n",
        "print(df_ArticleReadCountry2)"
      ],
      "metadata": {
        "colab": {
          "base_uri": "https://localhost:8080/"
        },
        "id": "ZWWiboNKh6k_",
        "outputId": "a49b1795-6922-4906-816f-5eeed610c767"
      },
      "execution_count": null,
      "outputs": [
        {
          "output_type": "stream",
          "name": "stdout",
          "text": [
            "     Event    Country     User_ID   Source          Topic        Date  \\\n",
            "6     read  country_2  2458151267   Reddit         Europe  2018-01-01   \n",
            "13    read  country_2  2458151274   Reddit         Europe  2018-01-01   \n",
            "17    read  country_2  2458151278   Reddit           Asia  2018-01-01   \n",
            "19    read  country_2  2458151280   Reddit           Asia  2018-01-01   \n",
            "20    read  country_2  2458151281   Reddit           Asia  2018-01-01   \n",
            "...    ...        ...         ...      ...            ...         ...   \n",
            "1782  read  country_2  2458153043  AdWords           Asia  2018-01-01   \n",
            "1784  read  country_2  2458153045      SEO  North America  2018-01-01   \n",
            "1785  read  country_2  2458153046  AdWords         Africa  2018-01-01   \n",
            "1787  read  country_2  2458153048   Reddit           Asia  2018-01-01   \n",
            "1790  read  country_2  2458153051  AdWords  North America  2018-01-01   \n",
            "\n",
            "          Time  \n",
            "6     00:06:06  \n",
            "13    00:09:29  \n",
            "17    00:13:06  \n",
            "19    00:14:53  \n",
            "20    00:15:44  \n",
            "...        ...  \n",
            "1782  23:53:03  \n",
            "1784  23:54:03  \n",
            "1785  23:54:26  \n",
            "1787  23:54:45  \n",
            "1790  23:57:14  \n",
            "\n",
            "[462 rows x 7 columns]\n"
          ]
        },
        {
          "output_type": "stream",
          "name": "stderr",
          "text": [
            "<ipython-input-9-880750b5efe0>:2: FutureWarning: In a future version of pandas all arguments of StringMethods.split except for the argument 'pat' will be keyword-only.\n",
            "  split_datetime = df_ArticleReadCountry2['My_Datetime'].str.split(' ', 1, expand=True)\n",
            "<ipython-input-9-880750b5efe0>:3: SettingWithCopyWarning: \n",
            "A value is trying to be set on a copy of a slice from a DataFrame.\n",
            "Try using .loc[row_indexer,col_indexer] = value instead\n",
            "\n",
            "See the caveats in the documentation: https://pandas.pydata.org/pandas-docs/stable/user_guide/indexing.html#returning-a-view-versus-a-copy\n",
            "  df_ArticleReadCountry2['Date'] = split_datetime[0]\n",
            "<ipython-input-9-880750b5efe0>:4: SettingWithCopyWarning: \n",
            "A value is trying to be set on a copy of a slice from a DataFrame.\n",
            "Try using .loc[row_indexer,col_indexer] = value instead\n",
            "\n",
            "See the caveats in the documentation: https://pandas.pydata.org/pandas-docs/stable/user_guide/indexing.html#returning-a-view-versus-a-copy\n",
            "  df_ArticleReadCountry2['Time'] = split_datetime[1]\n",
            "<ipython-input-9-880750b5efe0>:7: SettingWithCopyWarning: \n",
            "A value is trying to be set on a copy of a slice from a DataFrame\n",
            "\n",
            "See the caveats in the documentation: https://pandas.pydata.org/pandas-docs/stable/user_guide/indexing.html#returning-a-view-versus-a-copy\n",
            "  df_ArticleReadCountry2.drop('My_Datetime', axis=1, inplace=True)\n"
          ]
        }
      ]
    },
    {
      "cell_type": "code",
      "source": [
        "dataURL = 'https://raw.githubusercontent.com/Praxis-QR/FDS/main/data/zoo.csv'\n",
        "dfZoo = pd.read_csv(dataURL) #fetching and reading the data"
      ],
      "metadata": {
        "id": "7m6CY7rViSNT"
      },
      "execution_count": null,
      "outputs": []
    },
    {
      "cell_type": "code",
      "source": [
        "dfZoo.head(5)"
      ],
      "metadata": {
        "colab": {
          "base_uri": "https://localhost:8080/",
          "height": 206
        },
        "id": "FFnXKJQDilcq",
        "outputId": "e2e5ab74-04c2-40b4-e2bf-0a09d5d7b7a4"
      },
      "execution_count": null,
      "outputs": [
        {
          "output_type": "execute_result",
          "data": {
            "text/plain": [
              "     animal  uniq_id  water_need\n",
              "0  elephant     1001         500\n",
              "1  elephant     1002         600\n",
              "2  elephant     1003         550\n",
              "3     tiger     1004         300\n",
              "4     tiger     1005         320"
            ],
            "text/html": [
              "\n",
              "  <div id=\"df-8f5d4a6c-5ac1-443c-80c5-c9d81c7663dd\" class=\"colab-df-container\">\n",
              "    <div>\n",
              "<style scoped>\n",
              "    .dataframe tbody tr th:only-of-type {\n",
              "        vertical-align: middle;\n",
              "    }\n",
              "\n",
              "    .dataframe tbody tr th {\n",
              "        vertical-align: top;\n",
              "    }\n",
              "\n",
              "    .dataframe thead th {\n",
              "        text-align: right;\n",
              "    }\n",
              "</style>\n",
              "<table border=\"1\" class=\"dataframe\">\n",
              "  <thead>\n",
              "    <tr style=\"text-align: right;\">\n",
              "      <th></th>\n",
              "      <th>animal</th>\n",
              "      <th>uniq_id</th>\n",
              "      <th>water_need</th>\n",
              "    </tr>\n",
              "  </thead>\n",
              "  <tbody>\n",
              "    <tr>\n",
              "      <th>0</th>\n",
              "      <td>elephant</td>\n",
              "      <td>1001</td>\n",
              "      <td>500</td>\n",
              "    </tr>\n",
              "    <tr>\n",
              "      <th>1</th>\n",
              "      <td>elephant</td>\n",
              "      <td>1002</td>\n",
              "      <td>600</td>\n",
              "    </tr>\n",
              "    <tr>\n",
              "      <th>2</th>\n",
              "      <td>elephant</td>\n",
              "      <td>1003</td>\n",
              "      <td>550</td>\n",
              "    </tr>\n",
              "    <tr>\n",
              "      <th>3</th>\n",
              "      <td>tiger</td>\n",
              "      <td>1004</td>\n",
              "      <td>300</td>\n",
              "    </tr>\n",
              "    <tr>\n",
              "      <th>4</th>\n",
              "      <td>tiger</td>\n",
              "      <td>1005</td>\n",
              "      <td>320</td>\n",
              "    </tr>\n",
              "  </tbody>\n",
              "</table>\n",
              "</div>\n",
              "    <div class=\"colab-df-buttons\">\n",
              "\n",
              "  <div class=\"colab-df-container\">\n",
              "    <button class=\"colab-df-convert\" onclick=\"convertToInteractive('df-8f5d4a6c-5ac1-443c-80c5-c9d81c7663dd')\"\n",
              "            title=\"Convert this dataframe to an interactive table.\"\n",
              "            style=\"display:none;\">\n",
              "\n",
              "  <svg xmlns=\"http://www.w3.org/2000/svg\" height=\"24px\" viewBox=\"0 -960 960 960\">\n",
              "    <path d=\"M120-120v-720h720v720H120Zm60-500h600v-160H180v160Zm220 220h160v-160H400v160Zm0 220h160v-160H400v160ZM180-400h160v-160H180v160Zm440 0h160v-160H620v160ZM180-180h160v-160H180v160Zm440 0h160v-160H620v160Z\"/>\n",
              "  </svg>\n",
              "    </button>\n",
              "\n",
              "  <style>\n",
              "    .colab-df-container {\n",
              "      display:flex;\n",
              "      gap: 12px;\n",
              "    }\n",
              "\n",
              "    .colab-df-convert {\n",
              "      background-color: #E8F0FE;\n",
              "      border: none;\n",
              "      border-radius: 50%;\n",
              "      cursor: pointer;\n",
              "      display: none;\n",
              "      fill: #1967D2;\n",
              "      height: 32px;\n",
              "      padding: 0 0 0 0;\n",
              "      width: 32px;\n",
              "    }\n",
              "\n",
              "    .colab-df-convert:hover {\n",
              "      background-color: #E2EBFA;\n",
              "      box-shadow: 0px 1px 2px rgba(60, 64, 67, 0.3), 0px 1px 3px 1px rgba(60, 64, 67, 0.15);\n",
              "      fill: #174EA6;\n",
              "    }\n",
              "\n",
              "    .colab-df-buttons div {\n",
              "      margin-bottom: 4px;\n",
              "    }\n",
              "\n",
              "    [theme=dark] .colab-df-convert {\n",
              "      background-color: #3B4455;\n",
              "      fill: #D2E3FC;\n",
              "    }\n",
              "\n",
              "    [theme=dark] .colab-df-convert:hover {\n",
              "      background-color: #434B5C;\n",
              "      box-shadow: 0px 1px 3px 1px rgba(0, 0, 0, 0.15);\n",
              "      filter: drop-shadow(0px 1px 2px rgba(0, 0, 0, 0.3));\n",
              "      fill: #FFFFFF;\n",
              "    }\n",
              "  </style>\n",
              "\n",
              "    <script>\n",
              "      const buttonEl =\n",
              "        document.querySelector('#df-8f5d4a6c-5ac1-443c-80c5-c9d81c7663dd button.colab-df-convert');\n",
              "      buttonEl.style.display =\n",
              "        google.colab.kernel.accessAllowed ? 'block' : 'none';\n",
              "\n",
              "      async function convertToInteractive(key) {\n",
              "        const element = document.querySelector('#df-8f5d4a6c-5ac1-443c-80c5-c9d81c7663dd');\n",
              "        const dataTable =\n",
              "          await google.colab.kernel.invokeFunction('convertToInteractive',\n",
              "                                                    [key], {});\n",
              "        if (!dataTable) return;\n",
              "\n",
              "        const docLinkHtml = 'Like what you see? Visit the ' +\n",
              "          '<a target=\"_blank\" href=https://colab.research.google.com/notebooks/data_table.ipynb>data table notebook</a>'\n",
              "          + ' to learn more about interactive tables.';\n",
              "        element.innerHTML = '';\n",
              "        dataTable['output_type'] = 'display_data';\n",
              "        await google.colab.output.renderOutput(dataTable, element);\n",
              "        const docLink = document.createElement('div');\n",
              "        docLink.innerHTML = docLinkHtml;\n",
              "        element.appendChild(docLink);\n",
              "      }\n",
              "    </script>\n",
              "  </div>\n",
              "\n",
              "\n",
              "<div id=\"df-441c820a-72ca-40f5-8e06-96f8a7828391\">\n",
              "  <button class=\"colab-df-quickchart\" onclick=\"quickchart('df-441c820a-72ca-40f5-8e06-96f8a7828391')\"\n",
              "            title=\"Suggest charts\"\n",
              "            style=\"display:none;\">\n",
              "\n",
              "<svg xmlns=\"http://www.w3.org/2000/svg\" height=\"24px\"viewBox=\"0 0 24 24\"\n",
              "     width=\"24px\">\n",
              "    <g>\n",
              "        <path d=\"M19 3H5c-1.1 0-2 .9-2 2v14c0 1.1.9 2 2 2h14c1.1 0 2-.9 2-2V5c0-1.1-.9-2-2-2zM9 17H7v-7h2v7zm4 0h-2V7h2v10zm4 0h-2v-4h2v4z\"/>\n",
              "    </g>\n",
              "</svg>\n",
              "  </button>\n",
              "\n",
              "<style>\n",
              "  .colab-df-quickchart {\n",
              "      --bg-color: #E8F0FE;\n",
              "      --fill-color: #1967D2;\n",
              "      --hover-bg-color: #E2EBFA;\n",
              "      --hover-fill-color: #174EA6;\n",
              "      --disabled-fill-color: #AAA;\n",
              "      --disabled-bg-color: #DDD;\n",
              "  }\n",
              "\n",
              "  [theme=dark] .colab-df-quickchart {\n",
              "      --bg-color: #3B4455;\n",
              "      --fill-color: #D2E3FC;\n",
              "      --hover-bg-color: #434B5C;\n",
              "      --hover-fill-color: #FFFFFF;\n",
              "      --disabled-bg-color: #3B4455;\n",
              "      --disabled-fill-color: #666;\n",
              "  }\n",
              "\n",
              "  .colab-df-quickchart {\n",
              "    background-color: var(--bg-color);\n",
              "    border: none;\n",
              "    border-radius: 50%;\n",
              "    cursor: pointer;\n",
              "    display: none;\n",
              "    fill: var(--fill-color);\n",
              "    height: 32px;\n",
              "    padding: 0;\n",
              "    width: 32px;\n",
              "  }\n",
              "\n",
              "  .colab-df-quickchart:hover {\n",
              "    background-color: var(--hover-bg-color);\n",
              "    box-shadow: 0 1px 2px rgba(60, 64, 67, 0.3), 0 1px 3px 1px rgba(60, 64, 67, 0.15);\n",
              "    fill: var(--button-hover-fill-color);\n",
              "  }\n",
              "\n",
              "  .colab-df-quickchart-complete:disabled,\n",
              "  .colab-df-quickchart-complete:disabled:hover {\n",
              "    background-color: var(--disabled-bg-color);\n",
              "    fill: var(--disabled-fill-color);\n",
              "    box-shadow: none;\n",
              "  }\n",
              "\n",
              "  .colab-df-spinner {\n",
              "    border: 2px solid var(--fill-color);\n",
              "    border-color: transparent;\n",
              "    border-bottom-color: var(--fill-color);\n",
              "    animation:\n",
              "      spin 1s steps(1) infinite;\n",
              "  }\n",
              "\n",
              "  @keyframes spin {\n",
              "    0% {\n",
              "      border-color: transparent;\n",
              "      border-bottom-color: var(--fill-color);\n",
              "      border-left-color: var(--fill-color);\n",
              "    }\n",
              "    20% {\n",
              "      border-color: transparent;\n",
              "      border-left-color: var(--fill-color);\n",
              "      border-top-color: var(--fill-color);\n",
              "    }\n",
              "    30% {\n",
              "      border-color: transparent;\n",
              "      border-left-color: var(--fill-color);\n",
              "      border-top-color: var(--fill-color);\n",
              "      border-right-color: var(--fill-color);\n",
              "    }\n",
              "    40% {\n",
              "      border-color: transparent;\n",
              "      border-right-color: var(--fill-color);\n",
              "      border-top-color: var(--fill-color);\n",
              "    }\n",
              "    60% {\n",
              "      border-color: transparent;\n",
              "      border-right-color: var(--fill-color);\n",
              "    }\n",
              "    80% {\n",
              "      border-color: transparent;\n",
              "      border-right-color: var(--fill-color);\n",
              "      border-bottom-color: var(--fill-color);\n",
              "    }\n",
              "    90% {\n",
              "      border-color: transparent;\n",
              "      border-bottom-color: var(--fill-color);\n",
              "    }\n",
              "  }\n",
              "</style>\n",
              "\n",
              "  <script>\n",
              "    async function quickchart(key) {\n",
              "      const quickchartButtonEl =\n",
              "        document.querySelector('#' + key + ' button');\n",
              "      quickchartButtonEl.disabled = true;  // To prevent multiple clicks.\n",
              "      quickchartButtonEl.classList.add('colab-df-spinner');\n",
              "      try {\n",
              "        const charts = await google.colab.kernel.invokeFunction(\n",
              "            'suggestCharts', [key], {});\n",
              "      } catch (error) {\n",
              "        console.error('Error during call to suggestCharts:', error);\n",
              "      }\n",
              "      quickchartButtonEl.classList.remove('colab-df-spinner');\n",
              "      quickchartButtonEl.classList.add('colab-df-quickchart-complete');\n",
              "    }\n",
              "    (() => {\n",
              "      let quickchartButtonEl =\n",
              "        document.querySelector('#df-441c820a-72ca-40f5-8e06-96f8a7828391 button');\n",
              "      quickchartButtonEl.style.display =\n",
              "        google.colab.kernel.accessAllowed ? 'block' : 'none';\n",
              "    })();\n",
              "  </script>\n",
              "</div>\n",
              "    </div>\n",
              "  </div>\n"
            ]
          },
          "metadata": {},
          "execution_count": 11
        }
      ]
    },
    {
      "cell_type": "code",
      "source": [
        "# Filter the DataFrame where 'animal' column equals 'elephant'\n",
        "filtered_df = dfZoo[dfZoo['animal'] == 'elephant']\n",
        "\n",
        "# Display the new DataFrame with the filtered results\n",
        "print(filtered_df)"
      ],
      "metadata": {
        "colab": {
          "base_uri": "https://localhost:8080/"
        },
        "id": "jy6YlApTioi0",
        "outputId": "56667cb7-17ed-45df-9245-8b9f7fb69d66"
      },
      "execution_count": null,
      "outputs": [
        {
          "output_type": "stream",
          "name": "stdout",
          "text": [
            "     animal  uniq_id  water_need\n",
            "0  elephant     1001         500\n",
            "1  elephant     1002         600\n",
            "2  elephant     1003         550\n"
          ]
        }
      ]
    },
    {
      "cell_type": "code",
      "source": [
        "dfZoo.count() #To count the number of the animals"
      ],
      "metadata": {
        "colab": {
          "base_uri": "https://localhost:8080/"
        },
        "id": "eSoTTPyeizKI",
        "outputId": "e8b3a3e8-7272-48c7-8933-d52bbc5d6b35"
      },
      "execution_count": null,
      "outputs": [
        {
          "output_type": "execute_result",
          "data": {
            "text/plain": [
              "animal        22\n",
              "uniq_id       22\n",
              "water_need    22\n",
              "dtype: int64"
            ]
          },
          "metadata": {},
          "execution_count": 13
        }
      ]
    },
    {
      "cell_type": "code",
      "source": [
        "# Calculate the total sum of the 'water_need' column using the sum() method\n",
        "total_water_needed = dfZoo['water_need'].sum()\n",
        "\n",
        "# Display the total sum of water needed\n",
        "print(total_water_needed)"
      ],
      "metadata": {
        "colab": {
          "base_uri": "https://localhost:8080/"
        },
        "id": "n7hT3Ksui4nl",
        "outputId": "29076f20-65cb-441f-e427-d50deec58f2b"
      },
      "execution_count": null,
      "outputs": [
        {
          "output_type": "stream",
          "name": "stdout",
          "text": [
            "7650\n"
          ]
        }
      ]
    },
    {
      "cell_type": "code",
      "source": [
        "# Find the minimum value in the 'water_need' column using the min() method\n",
        "min_water_needed = dfZoo['water_need'].min()\n",
        "\n",
        "# Display the minimum value of water needed\n",
        "print(min_water_needed)"
      ],
      "metadata": {
        "colab": {
          "base_uri": "https://localhost:8080/"
        },
        "id": "cNniLzDNjEL5",
        "outputId": "6ac13e5c-09db-4808-dd08-d0af4bab657e"
      },
      "execution_count": null,
      "outputs": [
        {
          "output_type": "stream",
          "name": "stdout",
          "text": [
            "80\n"
          ]
        }
      ]
    },
    {
      "cell_type": "code",
      "source": [
        "# Find the minimum value in the 'water_need' column using the min() method\n",
        "max_water_needed = dfZoo['water_need'].max()\n",
        "\n",
        "# Display the maximum value of water needed\n",
        "print(max_water_needed)"
      ],
      "metadata": {
        "colab": {
          "base_uri": "https://localhost:8080/"
        },
        "id": "fKIlq-D0jN7d",
        "outputId": "87266b5a-3545-4764-88a5-81ba853a5b76"
      },
      "execution_count": null,
      "outputs": [
        {
          "output_type": "stream",
          "name": "stdout",
          "text": [
            "600\n"
          ]
        }
      ]
    },
    {
      "cell_type": "code",
      "source": [
        "# Calculate the mean (average) of the 'water_need' column using the mean() method\n",
        "mean_water_needed = dfZoo['water_need'].mean()\n",
        "\n",
        "# Display the mean water needed\n",
        "print(mean_water_needed)"
      ],
      "metadata": {
        "colab": {
          "base_uri": "https://localhost:8080/"
        },
        "id": "K1guKRXSjd0h",
        "outputId": "1713771f-903a-4c4a-9695-ec5e8dc834a6"
      },
      "execution_count": null,
      "outputs": [
        {
          "output_type": "stream",
          "name": "stdout",
          "text": [
            "347.72727272727275\n"
          ]
        }
      ]
    },
    {
      "cell_type": "code",
      "source": [
        "# Find the median value of the 'water_need' column using the median() method\n",
        "median_water_needed = dfZoo['water_need'].median()\n",
        "\n",
        "# Display the median value of water needed\n",
        "print(median_water_needed)"
      ],
      "metadata": {
        "colab": {
          "base_uri": "https://localhost:8080/"
        },
        "id": "jbdXPUTOjoWp",
        "outputId": "50ad95e8-2f2b-41d9-abb5-e4b1e35f2155"
      },
      "execution_count": null,
      "outputs": [
        {
          "output_type": "stream",
          "name": "stdout",
          "text": [
            "325.0\n"
          ]
        }
      ]
    },
    {
      "cell_type": "code",
      "source": [
        "# Grouping by 'animal' column and calculating the mean of 'water_need' for each animal\n",
        "grouped_mean_water_need = dfZoo.groupby('animal')['water_need'].mean().reset_index()\n",
        "\n",
        "# Displaying the mean water needed for each animal\n",
        "print(grouped_mean_water_need)"
      ],
      "metadata": {
        "colab": {
          "base_uri": "https://localhost:8080/"
        },
        "id": "yD5jAnxqj0cA",
        "outputId": "b5295632-b9c0-47fa-e61f-ce4fd60d49ca"
      },
      "execution_count": null,
      "outputs": [
        {
          "output_type": "stream",
          "name": "stdout",
          "text": [
            "     animal  water_need\n",
            "0  elephant  550.000000\n",
            "1  kangaroo  416.666667\n",
            "2      lion  477.500000\n",
            "3     tiger  310.000000\n",
            "4     zebra  184.285714\n"
          ]
        }
      ]
    }
  ]
}